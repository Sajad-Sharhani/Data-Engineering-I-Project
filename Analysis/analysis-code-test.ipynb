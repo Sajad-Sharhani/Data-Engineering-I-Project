{
 "cells": [
  {
   "cell_type": "markdown",
   "id": "02489c28",
   "metadata": {},
   "source": [
    "I used the given example codes in the lecture such as [Lecture1_Example2](https://github.com/JSFRi/DE1-spark/blob/main/DE1-2023/Lecture1_Example2_RDD_Gutenborg.ipynb). I made the neccesary modification to the tasks and I also used the pyspark documentation as well as stackoverflow for ideas."
   ]
  },
  {
   "cell_type": "code",
   "execution_count": null,
   "id": "620b1932",
   "metadata": {},
   "outputs": [],
   "source": [
    "# Starting spark session \n",
    "from pyspark.sql import SparkSession\n",
    "from pyspark.sql import *\n",
    "spark_session = SparkSession.builder\\\n",
    "    .master(\"local\") \\\n",
    "    .appName(\"group1-test\")\\\n",
    "    .getOrCreate()\n",
    "## Modification for final deployment"
   ]
  },
  {
   "cell_type": "code",
   "execution_count": null,
   "id": "3bfff1c3",
   "metadata": {},
   "outputs": [],
   "source": [
    "sc = spark_session.sparkContext\n",
    "sc.setLogLevel(\"ERROR\")"
   ]
  },
  {
   "cell_type": "code",
   "execution_count": null,
   "id": "64fd6b88",
   "metadata": {},
   "outputs": [],
   "source": [
    "#READ DATA- Modification is neccesarry to final deployment\n",
    "df=spark_session.read.json(\"RC_2006-04\")"
   ]
  },
  {
   "cell_type": "code",
   "execution_count": null,
   "id": "7b132e22",
   "metadata": {},
   "outputs": [],
   "source": [
    "df.printSchema()"
   ]
  },
  {
   "cell_type": "code",
   "execution_count": null,
   "id": "18681e29",
   "metadata": {},
   "outputs": [],
   "source": [
    "#dropping unnecesary data elements\n",
    "df.drop('author','author_flair_css_class', 'author_flair_text', 'edited', 'gilded', 'id', 'link_id', 'parent_id', 'retrieved_on', 'stickied', 'subreddit', 'subreddit_id') \\\n",
    "  .printSchema()"
   ]
  },
  {
   "cell_type": "code",
   "execution_count": null,
   "id": "553f00fb",
   "metadata": {},
   "outputs": [],
   "source": [
    "from pyspark.sql import functions as f\n",
    "from pyspark.sql.functions import col,lit\n",
    "from datetime import datetime\n",
    "\n",
    "#Convert epoch to date and group by \n",
    "date = df.withColumn(\"timestamp\",f.to_timestamp(df['created_utc']))"
   ]
  },
  {
   "cell_type": "code",
   "execution_count": null,
   "id": "63c73e4c",
   "metadata": {},
   "outputs": [],
   "source": [
    "from IPython.display import display, HTML\n",
    "from IPython.display import clear_output\n",
    "display(HTML(\"<style>div.output_scroll { height: 44em; }</style>\"))"
   ]
  },
  {
   "cell_type": "code",
   "execution_count": null,
   "id": "ed8ceb76",
   "metadata": {},
   "outputs": [],
   "source": [
    "#Procedur for periodic distribution and trending over time\n",
    "print(\"Give on of the following: \\\"hour\\\", \\\"day\\\", \\\"month\\\", \\\"year\\\"\")\n",
    "name=input()\n",
    "while name not in [\"hour\", \"day\", \"month\", \"year\"]:\n",
    "    clear_output(wait=False)\n",
    "    print(\"Give on of the following: \\\"hour\\\", \\\"day\\\", \\\"month\\\", \\\"year\\\"\")\n",
    "    name=input()\n",
    "\n",
    "if name==\"hour\":\n",
    "    func=f.hour\n",
    "    form='yyyy-MM-dd HH'\n",
    "elif name==\"day\":\n",
    "    func=f.dayofmonth\n",
    "    form='yyyy-MM-dd'\n",
    "elif name==\"month\":\n",
    "    func=f.month\n",
    "    form='yyyy-MM'\n",
    "elif name==\"year\":\n",
    "    func=f.year\n",
    "    form='yyyy'\n",
    "    \n",
    "## distribution of comments inside a day\n",
    "clear_output(wait=False)\n",
    "df2=date.groupBy(func(\"timestamp\").alias(name)).count()\n",
    "d=df2.toPandas()\n",
    "d.sort_values(by=name)\n",
    "d.plot(x=name, y='count', style='bo', title=\"Distribution of comments inside a \"+name)\n",
    "\n",
    "## Change over period (day) overall comments\n",
    "df2=date.select(f.date_format('timestamp',form).alias(name)).groupby(name).count()\n",
    "d=df2.toPandas()\n",
    "d.sort_values(by=name)\n",
    "d.plot(x=name, y='count', style='--ro', title=\"Trending per \"+name +\" (overall worldcount)\")"
   ]
  },
  {
   "cell_type": "code",
   "execution_count": null,
   "id": "04822759",
   "metadata": {},
   "outputs": [],
   "source": [
    "## Getting words separated, get rid of special characters and convert to lowercaese for analysis\n",
    "\n",
    "df3=date.withColumn(\"body\", f.regexp_replace(date.body, \"[^a-zA-Z0-9]\", \" \"));\n",
    "raw_words=df3.withColumn('body',f.explode(f.split('body',' ')))\n",
    "words = raw_words.withColumn('body', f.lower(f.trim(raw_words.body)))\n",
    "\n",
    "\n",
    "#Read searched word and filter data for it\n",
    "print(\"Give the searched key word:\")\n",
    "word=str.lower(input())\n",
    "dff=words.filter(words.body==word)\n",
    "\n",
    "\n",
    "#Same procedur for periodic distribution and trending over time\n",
    "print(\"Give on of the following: \\\"hour\\\", \\\"day\\\", \\\"month\\\", \\\"year\\\"\")\n",
    "name=input()\n",
    "while name not in [\"hour\", \"day\", \"month\", \"year\"]:\n",
    "    clear_output(wait=False)\n",
    "    print(\"Give on of the following: \\\"hour\\\", \\\"day\\\", \\\"month\\\", \\\"year\\\"\")\n",
    "    name=input()\n",
    "\n",
    "if name==\"hour\":\n",
    "    func=f.hour\n",
    "if name==\"day\":\n",
    "    func=f.dayofmonth\n",
    "    form='yyyy-MM-dd'\n",
    "elif name==\"month\":\n",
    "    func=f.month\n",
    "    form='yyyy-MM'\n",
    "elif name==\"year\":\n",
    "    func=f.year\n",
    "    form='yyyy'\n",
    "    \n",
    "## distribution of comments inside a day\n",
    "clear_output(wait=False)\n",
    "df2=dff.groupBy(func(\"timestamp\").alias(name)).count()\n",
    "d=df2.toPandas()\n",
    "d.sort_values(by=name)\n",
    "d.plot(x=name, y='count', style='bo', title=\"Distribution of comments inside a \"+name+\"\\n Wordcount for the word: \"+word)\n",
    "\n",
    "## Change over period (day) overall comments\n",
    "\n",
    "df2=dff.select(f.date_format('timestamp',form).alias(name)).groupby(name).count()\n",
    "d=df2.toPandas()\n",
    "d.sort_values(by=name)\n",
    "d.plot(x=name, y='count', style='--ro', title=\"Trending per \"+name+\"\\n Wordcount for the word: \"+word)"
   ]
  }
 ],
 "metadata": {
  "kernelspec": {
   "display_name": "Python 3 (ipykernel)",
   "language": "python",
   "name": "python3"
  },
  "language_info": {
   "codemirror_mode": {
    "name": "ipython",
    "version": 3
   },
   "file_extension": ".py",
   "mimetype": "text/x-python",
   "name": "python",
   "nbconvert_exporter": "python",
   "pygments_lexer": "ipython3",
   "version": "3.10.6"
  }
 },
 "nbformat": 4,
 "nbformat_minor": 5
}
